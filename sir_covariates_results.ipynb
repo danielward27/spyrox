{
 "cells": [
  {
   "cell_type": "code",
   "execution_count": 1,
   "metadata": {},
   "outputs": [],
   "source": [
    "import itertools\n",
    "import os\n",
    "\n",
    "import matplotlib.patches as mpatches\n",
    "import matplotlib.pyplot as plt\n",
    "import numpy as np\n",
    "import pandas as pd\n",
    "import seaborn as sns\n",
    "\n",
    "from softcvi_validation.utils import get_palette\n",
    "from softcvi_validation.tasks.available_tasks import get_available_tasks\n",
    "from spyrox.utils import get_abspath_project_root\n",
    "\n",
    "os.chdir(get_abspath_project_root())\n",
    "plt.style.use('./plots/style.mplstyle')\n",
    "palette = get_palette()\n",
    "\n",
    "palette = {\n",
    "    \"True\": palette[\"True\"],\n",
    "    \"ELBO\": palette[\"ELBO\"],\n",
    "    \"SoftCVI\": palette[\"SoftCVI(a=0.75)\"],\n",
    "    \"SNIS-fKL\": palette[\"SNIS-fKL\"],\n",
    "    }\n",
    "\n",
    "tasks = get_available_tasks()\n",
    "method_names = [k for k in palette.keys() if k!=\"True\"]\n",
    "\n",
    "box_kwargs = {\n",
    "    \"showfliers\": False,\n",
    "    \"palette\": palette,\n",
    "    \"saturation\": 1,\n",
    "    \"linewidth\": 0.3,\n",
    "}\n",
    "\n",
    "handles = [\n",
    "    mpatches.Patch(facecolor=v, label=k.replace(\"a=\", r\"$\\alpha$=\"), edgecolor=\"black\")\n",
    "    for k, v in palette.items() if k in method_names\n",
    "]"
   ]
  },
  {
   "cell_type": "code",
   "execution_count": 7,
   "metadata": {},
   "outputs": [],
   "source": [
    "metric_names = [\n",
    "    # \"mean_log_prob_reference\",\n",
    "    # \"negative_posterior_mean_l2\",\n",
    "    # \"coverage_probabilities\",\n",
    "    # \"run_time\",\n",
    "]\n",
    "\n",
    "log_prob_true_data = {\n",
    "    \"method_name\": [],\n",
    "    \"log_prob_true\": [],\n",
    "    \"num_rounds\": [],\n",
    "}\n",
    "\n",
    "coverage_data = {\n",
    "    \"method_name\": [],\n",
    "    \"coverage_prob\": [],\n",
    "    \"num_rounds\": [],\n",
    "}\n",
    "\n",
    "\n",
    "coverage_results = {\n",
    "    method_name: {} for method_name in method_names \n",
    "}\n",
    "\n",
    "for num_rounds, seed, method in itertools.product([1, 4, 8], range(100), method_names):\n",
    "\n",
    "    cov_probs = []\n",
    "\n",
    "    \n",
    "    file = f\"results/metrics/{method}_seed={seed}_num_rounds={num_rounds}.npz\"\n",
    "\n",
    "    try:    \n",
    "        metrics = dict(np.load(file))\n",
    "    except FileNotFoundError:\n",
    "        print(f\"Not found: {file}\")\n",
    "\n",
    "    \n",
    "    log_prob_true_data[\"method_name\"].append(method)\n",
    "    log_prob_true_data[\"log_prob_true\"].append(metrics[\"log_prob_true\"].item())\n",
    "    log_prob_true_data[\"num_rounds\"].append(num_rounds)\n",
    "\n",
    "    coverage_data[\"method_name\"].append(method)\n",
    "    coverage_data[\"coverage_prob\"].append(metrics[\"coverage_prob\"].item())\n",
    "    coverage_data[\"num_rounds\"].append(num_rounds)\n",
    "\n",
    "    \n",
    "# df = pd.DataFrame(results)\n",
    "# df[\"task_name\"] = df[\"task_name\"].replace(plot_task_names)\n",
    "# df[\"value\"] = df[\"value\"].astype(float)\n"
   ]
  },
  {
   "cell_type": "code",
   "execution_count": null,
   "metadata": {},
   "outputs": [
    {
     "name": "stderr",
     "output_type": "stream",
     "text": [
      "/tmp/ipykernel_254863/3932798273.py:6: FutureWarning: \n",
      "\n",
      "Passing `palette` without assigning `hue` is deprecated and will be removed in v0.14.0. Assign the `x` variable to `hue` and set `legend=False` for the same effect.\n",
      "\n",
      "  sns.boxplot(df[df[\"num_rounds\"] == d], x=\"method_name\", y=\"log_prob_true\", **box_kwargs, ax=ax)\n",
      "/tmp/ipykernel_254863/3932798273.py:6: FutureWarning: \n",
      "\n",
      "Passing `palette` without assigning `hue` is deprecated and will be removed in v0.14.0. Assign the `x` variable to `hue` and set `legend=False` for the same effect.\n",
      "\n",
      "  sns.boxplot(df[df[\"num_rounds\"] == d], x=\"method_name\", y=\"log_prob_true\", **box_kwargs, ax=ax)\n",
      "/tmp/ipykernel_254863/3932798273.py:6: FutureWarning: \n",
      "\n",
      "Passing `palette` without assigning `hue` is deprecated and will be removed in v0.14.0. Assign the `x` variable to `hue` and set `legend=False` for the same effect.\n",
      "\n",
      "  sns.boxplot(df[df[\"num_rounds\"] == d], x=\"method_name\", y=\"log_prob_true\", **box_kwargs, ax=ax)\n"
     ]
    },
    {
     "data": {
      "image/png": "[encoded data removed]",
      "text/plain": [
       "<Figure size 550x400 with 3 Axes>"
      ]
     },
     "metadata": {},
     "output_type": "display_data"
    }
   ],
   "source": [
    "df = pd.DataFrame(log_prob_true_data)\n",
    "\n",
    "fig, axes = plt.subplots(ncols=3)\n",
    "\n",
    "for ax, d in zip(axes, [1, 4, 8], strict=True):\n",
    "    sns.boxplot(\n",
    "        df[df[\"num_rounds\"] == d],\n",
    "        x=\"method_name\",\n",
    "        y=\"log_prob_true\",\n",
    "        **box_kwargs,\n",
    "        ax=ax,\n",
    "        hue=\"method_name\",\n",
    "    )\n"
   ]
  },
  {
   "cell_type": "code",
   "execution_count": null,
   "metadata": {},
   "outputs": [],
   "source": []
  }
 ],
 "metadata": {
  "kernelspec": {
   "display_name": "pyrox_env",
   "language": "python",
   "name": "python3"
  },
  "language_info": {
   "codemirror_mode": {
    "name": "ipython",
    "version": 3
   },
   "file_extension": ".py",
   "mimetype": "text/x-python",
   "name": "python",
   "nbconvert_exporter": "python",
   "pygments_lexer": "ipython3",
   "version": "3.13.0"
  }
 },
 "nbformat": 4,
 "nbformat_minor": 2
}
